{
 "cells": [
  {
   "cell_type": "code",
   "execution_count": 1,
   "metadata": {
    "scrolled": true
   },
   "outputs": [],
   "source": [
    "'''prepare data for spotify extracted features for train and test'''\n",
    "import pandas as pd\n",
    "import matplotlib.pyplot as plt\n",
    "from sklearn.metrics import accuracy_score\n",
    "from sklearn.metrics import confusion_matrix\n",
    "from sklearn.neighbors import KNeighborsClassifier\n",
    "from sklearn.model_selection import train_test_split\n",
    "from sklearn.model_selection import cross_val_score\n",
    "from sklearn.preprocessing import StandardScaler, Imputer, LabelEncoder"
   ]
  },
  {
   "cell_type": "code",
   "execution_count": 2,
   "metadata": {},
   "outputs": [],
   "source": [
    "def read_data(datafile,selected_features):\n",
    "    data = pd.read_csv(datafile)\n",
    "    feature = data.loc[:,selected_features]\n",
    "    # Encode the genre and replace it\n",
    "    genre = feature.loc[:,'genre']\n",
    "    le = LabelEncoder()\n",
    "    le.fit(genre)\n",
    "    encoded_col = le.transform(genre)\n",
    "    feature['genre'] = encoded_col\n",
    "    labels = data.loc[:, 'class']\n",
    "    imputer = Imputer(missing_values='NaN', strategy='most_frequent', axis=0)\n",
    "    imputed_feature = imputer.fit_transform(feature)\n",
    "    scaler = StandardScaler()\n",
    "    features_scaled = scaler.fit(imputed_feature).transform(imputed_feature)\n",
    "    return features_scaled, labels"
   ]
  },
  {
   "cell_type": "code",
   "execution_count": 3,
   "metadata": {},
   "outputs": [
    {
     "name": "stdout",
     "output_type": "stream",
     "text": [
      "one============\n",
      "[-1.86842299 -1.56929282  0.1926071  -1.90707186 -0.23195415 -0.41452618\n",
      "  2.78496489 -0.22470245 -0.47265705 -0.0551177 ]\n"
     ]
    }
   ],
   "source": [
    "data = './spotify_trainingdata/labeled_traningdata_no_librosa_combined.csv'\n",
    "selected_features = ['genre','sp_energy','sp_valence','sp_danceability','sp_tempo','sp_speechiness','sp_acousticness','sp_instrumentalness','sp_liveness','sp_loudness']\n",
    "feature,label = read_data(data,selected_features)\n",
    "print(\"one============\")\n",
    "print(feature[0])"
   ]
  },
  {
   "cell_type": "code",
   "execution_count": 4,
   "metadata": {
    "scrolled": true
   },
   "outputs": [
    {
     "name": "stdout",
     "output_type": "stream",
     "text": [
      "highest k is:  3\n",
      "highest score is:  57.14285714285714\n"
     ]
    },
    {
     "data": {
      "image/png": "[encoded data removed]",
      "text/plain": [
       "<Figure size 720x720 with 1 Axes>"
      ]
     },
     "metadata": {},
     "output_type": "display_data"
    }
   ],
   "source": [
    "'''\n",
    "    Using KNN model\n",
    "'''\n",
    "# data = './spotify_trainingdata/labeled_traningdata_no_librosa_combined.csv'\n",
    "data_1 = './spotify_trainingdata/labeled_traingingdata_no_librosa_combine_pruned.csv'\n",
    "\n",
    "selected_features = ['genre','sp_energy','sp_valence','sp_danceability','sp_tempo','sp_speechiness','sp_acousticness','sp_instrumentalness','sp_liveness','sp_loudness']\n",
    "feature_1,label_1 = read_data(data_1,selected_features)\n",
    "\n",
    "test_size = 0.10\n",
    "random_seed = 42\n",
    "train_d_1, test_d_1, train_l_1, test_l_1 = train_test_split(feature_1, label_1, test_size=test_size, random_state=random_seed)\n",
    "\n",
    "result = []\n",
    "xlabel = [i for i in range(1, 20)]\n",
    "highest_k = 0\n",
    "highest_score = 0\n",
    "for neighbors in range(1, 20):\n",
    "    kNN = KNeighborsClassifier(n_neighbors=neighbors)\n",
    "    kNN.fit(train_d_1, train_l_1)\n",
    "    prediction = kNN.predict(test_d_1)\n",
    "    score = accuracy_score(prediction, test_l_1)*100\n",
    "    result.append(score)\n",
    "    if score > highest_score:\n",
    "        highest_score = score\n",
    "        highest_k = neighbors\n",
    "        \n",
    "print(\"highest k is: \", highest_k) \n",
    "print(\"highest score is: \", highest_score)\n",
    "\n",
    "plt.figure(figsize=(10, 10))\n",
    "plt.xlabel('kNN Neighbors for k=1,2...20')\n",
    "plt.ylabel('Accuracy Score')\n",
    "plt.title('kNN Classifier Results')\n",
    "plt.ylim(0, 100)\n",
    "plt.xlim(0, xlabel[len(xlabel)-1]+1)\n",
    "plt.plot(xlabel, result)\n",
    "plt.savefig('Spotify-knn.png')\n",
    "plt.show()"
   ]
  },
  {
   "cell_type": "code",
   "execution_count": 8,
   "metadata": {},
   "outputs": [
    {
     "name": "stdout",
     "output_type": "stream",
     "text": [
      "0.33974358974358976\n"
     ]
    }
   ],
   "source": [
    "'''KNN model with cross validation'''\n",
    "#deal with NaN values\n",
    "# data = './spotify_trainingdata/labeled_traningdata_no_librosa_combined.csv'\n",
    "data = './spotify_trainingdata/labeled_traingingdata_no_librosa_combine_pruned.csv'\n",
    "selected_features = ['genre','sp_energy','sp_valence','sp_danceability','sp_tempo','sp_speechiness','sp_acousticness','sp_instrumentalness','sp_liveness','sp_loudness']\n",
    "feature,label = read_data(data,selected_features)\n",
    "\n",
    "clf = KNeighborsClassifier(n_neighbors = highest_k)\n",
    "scores = cross_val_score(clf,feature,label,cv=5)\n",
    "print(scores.mean())"
   ]
  },
  {
   "cell_type": "code",
   "execution_count": 6,
   "metadata": {
    "scrolled": true
   },
   "outputs": [
    {
     "name": "stdout",
     "output_type": "stream",
     "text": [
      "Train: [13 14 15 16 17 18 19 20 21 22 23 24 25 26 27 28 29 30 31 32 33 34 35 36\n",
      " 37 38 39 40 41 42 43 44 45 46 47 48 49 50 51 52 53 54 55 56 57 58 59 60\n",
      " 61] | Test [ 0  1  2  3  4  5  6  7  8  9 10 11 12]\n",
      "Train: [ 0  1  2  3  4  5  6  7  8  9 10 11 12 26 27 28 29 30 31 32 33 34 35 36\n",
      " 37 38 39 40 41 42 43 44 45 46 47 48 49 50 51 52 53 54 55 56 57 58 59 60\n",
      " 61] | Test [13 14 15 16 17 18 19 20 21 22 23 24 25]\n",
      "Train: [ 0  1  2  3  4  5  6  7  8  9 10 11 12 13 14 15 16 17 18 19 20 21 22 23\n",
      " 24 25 38 39 40 41 42 43 44 45 46 47 48 49 50 51 52 53 54 55 56 57 58 59\n",
      " 60 61] | Test [26 27 28 29 30 31 32 33 34 35 36 37]\n",
      "Train: [ 0  1  2  3  4  5  6  7  8  9 10 11 12 13 14 15 16 17 18 19 20 21 22 23\n",
      " 24 25 26 27 28 29 30 31 32 33 34 35 36 37 50 51 52 53 54 55 56 57 58 59\n",
      " 60 61] | Test [38 39 40 41 42 43 44 45 46 47 48 49]\n",
      "Train: [ 0  1  2  3  4  5  6  7  8  9 10 11 12 13 14 15 16 17 18 19 20 21 22 23\n",
      " 24 25 26 27 28 29 30 31 32 33 34 35 36 37 38 39 40 41 42 43 44 45 46 47\n",
      " 48 49] | Test [50 51 52 53 54 55 56 57 58 59 60 61]\n",
      "Accuracy: 0.6153846153846154\n",
      "Accuracy: 0.8461538461538461\n",
      "Accuracy: 0.9166666666666666\n",
      "Accuracy: 0.75\n",
      "Accuracy: 0.25\n"
     ]
    }
   ],
   "source": [
    "'''Using SVC model '''\n",
    "from sklearn.svm import SVC\n",
    "from sklearn.metrics import accuracy_score\n",
    "from sklearn.model_selection import KFold\n",
    "\n",
    "\n",
    "# data = './spotify_trainingdata/labeled_traningdata_no_librosa_combined.csv'\n",
    "data_2 = './spotify_trainingdata/labeled_traingingdata_no_librosa_combine_pruned.csv'\n",
    "\n",
    "selected_features = ['genre','sp_energy','sp_valence','sp_danceability','sp_tempo','sp_speechiness','sp_acousticness','sp_instrumentalness','sp_liveness','sp_loudness']\n",
    "feature2,label2 = read_data(data_2,selected_features)\n",
    "\n",
    "x_for_kfold = feature2\n",
    "kfold = KFold(n_splits = 5)\n",
    "train_index_start = []\n",
    "train_index_end = []\n",
    "test_index_start =[]\n",
    "test_index_end = []\n",
    "for train_indices, test_indices in kfold.split(x_for_kfold):\n",
    "    print('Train: %s | Test %s' % (train_indices, test_indices))\n",
    "    train_index_start.append(train_indices[0])\n",
    "    train_index_end.append(train_indices[-1])\n",
    "    test_index_start.append(test_indices[0])\n",
    "    test_index_end.append(test_indices[-1])\n",
    "\n",
    "for i1, i2, i3, i4 in zip(train_index_start, train_index_end, test_index_start, test_index_end):\n",
    "    train_d2 = feature2[i1:i2+1]\n",
    "    train_l2 = label2[i1:i2+1]\n",
    "    test_d2 = feature2[i3:i4+1]\n",
    "    test_l2 = label2[i3:i4+1]\n",
    "    clf = SVC()\n",
    "    clf.fit(train_d2, train_l2)\n",
    "    hyp = clf.predict(test_d2)\n",
    "    print('Accuracy:', accuracy_score(test_l2, hyp))"
   ]
  },
  {
   "cell_type": "code",
   "execution_count": 10,
   "metadata": {},
   "outputs": [
    {
     "name": "stdout",
     "output_type": "stream",
     "text": [
      "Accuracy: 0.4444444444444444\n"
     ]
    }
   ],
   "source": [
    "'''SVC using seperate test data'''\n",
    "selected_features = ['genre','sp_energy','sp_valence','sp_danceability','sp_tempo','sp_speechiness','sp_acousticness','sp_instrumentalness','sp_liveness','sp_loudness']\n",
    "traindata= './spotify_trainingdata/labeled_traningdata_no_librosa_combined.csv'\n",
    "trainfeature,trainlabel = read_data(traindata,selected_features)\n",
    "testdata = './testdata/testdata_spotify.csv'\n",
    "testfeature,testlabel = read_data(testdata,selected_features)\n",
    "clf = SVC()\n",
    "clf.fit(trainfeature, trainlabel)\n",
    "hyp = clf.predict(testfeature)\n",
    "print('Accuracy:', accuracy_score(testlabel, hyp))"
   ]
  },
  {
   "cell_type": "code",
   "execution_count": 7,
   "metadata": {},
   "outputs": [
    {
     "name": "stdout",
     "output_type": "stream",
     "text": [
      "0.45161290322580644\n",
      "DecisionTreeClassifier(class_weight=None, criterion='gini', max_depth=4,\n",
      "            max_features=None, max_leaf_nodes=None,\n",
      "            min_impurity_decrease=0.0, min_impurity_split=None,\n",
      "            min_samples_leaf=1, min_samples_split=2,\n",
      "            min_weight_fraction_leaf=0.0, presort=False, random_state=None,\n",
      "            splitter='best')\n",
      "Accuracy score using decision_tree: 0.4444\n"
     ]
    }
   ],
   "source": [
    "'''Using Decision Tree'''\n",
    "# Create a decision tree and cross-validate for accuracy\n",
    "from sklearn.tree import DecisionTreeClassifier\n",
    "from sklearn.model_selection import cross_val_score, GridSearchCV\n",
    "\n",
    "selected_features = ['genre','sp_energy','sp_valence','sp_danceability','sp_tempo','sp_speechiness','sp_acousticness','sp_instrumentalness','sp_liveness','sp_loudness']\n",
    "# traindata = './spotify_trainingdata/labeled_traningdata_no_librosa_combined.csv'\n",
    "traindata = './spotify_trainingdata/labeled_traingingdata_no_librosa_combine_pruned.csv'\n",
    "trainfeature,trainlabel = read_data(traindata,selected_features)\n",
    "testdata = './testdata/testdata_spotify.csv'\n",
    "testfeature,testlabel = read_data(testdata,selected_features)\n",
    "\n",
    "folds=5\n",
    "grid_params = {'criterion':('entropy', 'gini'), 'max_depth': [2, 3, 4, 5, 6]}\n",
    "\n",
    "# X_train, X_test, y_train, y_test = train_test_split(feature_imputed, labels, test_size=0.1)\n",
    "\n",
    "decision_tree = DecisionTreeClassifier()\n",
    "classifier = GridSearchCV(decision_tree, grid_params, cv=folds)\n",
    "classifier.fit(trainfeature, trainlabel)\n",
    "hyp = classifier.predict(testfeature)\n",
    "print(classifier.best_score_)\n",
    "print(classifier.best_estimator_)\n",
    "print(\"Accuracy score using decision_tree: %0.4f\" %(accuracy_score(testlabel,hyp)))"
   ]
  },
  {
   "cell_type": "code",
   "execution_count": 8,
   "metadata": {},
   "outputs": [
    {
     "name": "stdout",
     "output_type": "stream",
     "text": [
      "Accuracy score using random forest: 0.5556\n",
      "Accuracy score using gradient boosting: 0.5556\n",
      "Accuracy score using adaboosting: 0.7778\n"
     ]
    },
    {
     "name": "stderr",
     "output_type": "stream",
     "text": [
      "/usr/local/lib/python3.6/site-packages/sklearn/preprocessing/label.py:151: DeprecationWarning: The truth value of an empty array is ambiguous. Returning False, but in future this will result in an error. Use `array.size > 0` to check that an array is not empty.\n",
      "  if diff:\n"
     ]
    }
   ],
   "source": [
    "'''Using Random Forest'''\n",
    "selected_features = ['genre','sp_energy','sp_valence','sp_danceability','sp_tempo','sp_speechiness','sp_acousticness','sp_instrumentalness','sp_liveness','sp_loudness']\n",
    "# traindata = './spotify_trainingdata/labeled_traningdata_no_librosa_combined.csv'\n",
    "traindata_1 = './spotify_trainingdata/labeled_traingingdata_no_librosa_combine_pruned.csv'\n",
    "trainfeature_1,trainlabel_1 = read_data(traindata_1,selected_features)\n",
    "\n",
    "testdata_1 = './testdata/testdata_spotify.csv'\n",
    "testfeature_1,testlabel_1 = read_data(testdata_1,selected_features)\n",
    "\n",
    "from sklearn.ensemble import RandomForestClassifier\n",
    "from sklearn.metrics import accuracy_score\n",
    "\n",
    "rfclf = RandomForestClassifier()\n",
    "rfclf.fit(trainfeature_1, trainlabel_1)\n",
    "hyprf = rfclf.predict(testfeature_1)\n",
    "print('Accuracy score using random forest: %0.4f' % (accuracy_score(testlabel_1,hyprf)))\n",
    "\n",
    "from xgboost import XGBClassifier\n",
    "xgbclf = XGBClassifier()#tune xgb classifier\n",
    "xgbclf.fit(trainfeature_1, trainlabel_1)\n",
    "hypxgb = xgbclf.predict(testfeature_1)\n",
    "print(\"Accuracy score using gradient boosting: %0.4f\" %(accuracy_score(testlabel_1,hypxgb)))\n",
    "\n",
    "\n",
    "from sklearn.ensemble import AdaBoostClassifier\n",
    "abclf = AdaBoostClassifier()\n",
    "abclf.fit(trainfeature_1, trainlabel_1)\n",
    "abhyp = abclf.predict(testfeature_1)\n",
    "print(\"Accuracy score using adaboosting: %0.4f\" %(accuracy_score(testlabel,abhyp)))"
   ]
  },
  {
   "cell_type": "code",
   "execution_count": 16,
   "metadata": {},
   "outputs": [
    {
     "name": "stdout",
     "output_type": "stream",
     "text": [
      "result with knn ['angry' 'angry' 'angry' 'angry']\n"
     ]
    }
   ],
   "source": [
    "selected_features = ['genre','sp_energy','sp_valence','sp_danceability','sp_tempo','sp_speechiness','sp_acousticness','sp_instrumentalness','sp_liveness','sp_loudness']\n",
    "demotrainfts, demotrainlbs = read_data('./spotify_trainingdata/labeled_traingingdata_no_librosa_combine_pruned.csv',selected_features)\n",
    " \n",
    "data = pd.read_csv('./DemoData/demodata_spotify.csv')\n",
    "demofeature = data.loc[:,selected_features]\n",
    "# Encode the genre and replace it\n",
    "genre = demofeature.loc[:,'genre']\n",
    "le = LabelEncoder()\n",
    "le.fit(genre)\n",
    "encoded_col = le.transform(genre)\n",
    "demofeature['genre'] = encoded_col\n",
    "imputer = Imputer(missing_values='NaN', strategy='most_frequent', axis=0)\n",
    "imputed_demofeature = imputer.fit_transform(demofeature)\n",
    "scaler = StandardScaler()\n",
    "demofeatures_scaled = scaler.fit(imputed_demofeature).transform(imputed_demofeature)\n",
    "kNNsp = KNeighborsClassifier(n_neighbors=3)\n",
    "kNNsp.fit(demotrainfts, demotrainlbs)\n",
    "prediction = kNNsp.predict(imputed_demofeature)\n",
    "print (\"result with knn {}\".format(prediction))"
   ]
  },
  {
   "cell_type": "code",
   "execution_count": 17,
   "metadata": {},
   "outputs": [
    {
     "name": "stdout",
     "output_type": "stream",
     "text": [
      "result with knn ['sad' 'sad' 'sad' 'sad']\n"
     ]
    }
   ],
   "source": [
    "abclf = AdaBoostClassifier()\n",
    "abclf.fit(demotrainfts, demotrainlbs)\n",
    "abhyp = abclf.predict(imputed_demofeature)\n",
    "print (\"result with knn {}\".format(abhyp))"
   ]
  },
  {
   "cell_type": "code",
   "execution_count": 18,
   "metadata": {},
   "outputs": [
    {
     "name": "stdout",
     "output_type": "stream",
     "text": [
      "result with svm ['sad' 'sad' 'sad' 'sad']\n"
     ]
    }
   ],
   "source": [
    "clf = SVC()\n",
    "clf.fit(demotrainfts, demotrainlbs)\n",
    "hyp = clf.predict(imputed_demofeature)\n",
    "print (\"result with svm {}\".format(hyp))"
   ]
  },
  {
   "cell_type": "code",
   "execution_count": null,
   "metadata": {},
   "outputs": [],
   "source": []
  }
 ],
 "metadata": {
  "kernelspec": {
   "display_name": "Python 3",
   "language": "python",
   "name": "python3"
  },
  "language_info": {
   "codemirror_mode": {
    "name": "ipython",
    "version": 3
   },
   "file_extension": ".py",
   "mimetype": "text/x-python",
   "name": "python",
   "nbconvert_exporter": "python",
   "pygments_lexer": "ipython3",
   "version": "3.6.4"
  }
 },
 "nbformat": 4,
 "nbformat_minor": 2
}
